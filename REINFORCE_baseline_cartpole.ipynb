{
 "cells": [
  {
   "cell_type": "code",
   "execution_count": null,
   "id": "af4a3264-c309-47cd-b9fb-bb81def59973",
   "metadata": {},
   "outputs": [],
   "source": []
  },
  {
   "cell_type": "code",
   "execution_count": 1,
   "id": "37220b49-60dc-4f47-a256-b7d26d0ae225",
   "metadata": {},
   "outputs": [],
   "source": [
    "import gym\n",
    "\n",
    "import torch\n",
    "import numpy as np\n",
    "from torch import nn\n",
    "import torch.nn.functional as F\n",
    "\n",
    "from torch.optim import Adam as Optimizer"
   ]
  },
  {
   "cell_type": "code",
   "execution_count": 2,
   "id": "f023eb47-b167-45e6-835a-259618dd0bbb",
   "metadata": {},
   "outputs": [],
   "source": [
    "class Actor(nn.Module):\n",
    "    def __init__(self):\n",
    "        super().__init__()\n",
    "\n",
    "        self.input_size = 4\n",
    "        self.dim1 = 50\n",
    "        self.dim2 = 50\n",
    "        self.dimf = 50\n",
    "        self.output_size = 2\n",
    "        \n",
    "        # Actor\n",
    "        self.X = nn.Linear(self.input_size, self.dim1)\n",
    "        self.X1 = nn.Linear(self.dim1, self.dim2)\n",
    "        self.X2 = nn.Linear(self.dim2, self.dimf)\n",
    "        self.Xf = nn.Linear(self.dimf, self.output_size)        \n",
    "    \n",
    "    def forward(self, observation):\n",
    "        \n",
    "        x = F.relu(self.X(observation))\n",
    "        x = F.relu(self.X1(x))\n",
    "        x = F.relu(self.X2(x))\n",
    "        x = self.Xf(x)\n",
    "        prob = F.softmax(x,dim=0)\n",
    "        \n",
    "        return prob"
   ]
  },
  {
   "cell_type": "code",
   "execution_count": 5,
   "id": "f1625ee8-cecd-4e2f-94b5-1cb7c555ca4f",
   "metadata": {},
   "outputs": [
    {
     "name": "stderr",
     "output_type": "stream",
     "text": [
      "c:\\users\\quantum\\appdata\\local\\programs\\python\\python39\\lib\\site-packages\\gym\\utils\\passive_env_checker.py:233: DeprecationWarning: `np.bool8` is a deprecated alias for `np.bool_`.  (Deprecated NumPy 1.24)\n",
      "  if not isinstance(terminated, (bool, np.bool8)):\n"
     ]
    },
    {
     "name": "stdout",
     "output_type": "stream",
     "text": [
      "Episode finished after 29 timesteps\n",
      "Episode finished after 131 timesteps\n",
      "Episode finished after 500 timesteps\n",
      "Episode finished after 135 timesteps\n",
      "Episode finished after 217 timesteps\n",
      "Episode finished after 500 timesteps\n",
      "Episode finished after 500 timesteps\n",
      "Episode finished after 500 timesteps\n",
      "Episode finished after 500 timesteps\n",
      "Episode finished after 500 timesteps\n",
      "Episode finished after 500 timesteps\n",
      "Episode finished after 500 timesteps\n",
      "Episode finished after 118 timesteps\n",
      "Episode finished after 86 timesteps\n",
      "Episode finished after 87 timesteps\n",
      "Episode finished after 114 timesteps\n",
      "Episode finished after 81 timesteps\n",
      "Episode finished after 85 timesteps\n",
      "Episode finished after 208 timesteps\n",
      "Episode finished after 500 timesteps\n",
      "Episode finished after 492 timesteps\n",
      "Episode finished after 500 timesteps\n",
      "Episode finished after 254 timesteps\n",
      "Episode finished after 500 timesteps\n",
      "Episode finished after 500 timesteps\n",
      "Episode finished after 500 timesteps\n",
      "Episode finished after 500 timesteps\n",
      "Episode finished after 500 timesteps\n",
      "Episode finished after 500 timesteps\n",
      "Episode finished after 500 timesteps\n",
      "Episode finished after 500 timesteps\n",
      "Episode finished after 500 timesteps\n",
      "Episode finished after 500 timesteps\n",
      "Episode finished after 500 timesteps\n",
      "Episode finished after 500 timesteps\n",
      "Episode finished after 500 timesteps\n",
      "Episode finished after 500 timesteps\n",
      "Episode finished after 500 timesteps\n",
      "Episode finished after 500 timesteps\n",
      "Episode finished after 89 timesteps\n",
      "Episode finished after 87 timesteps\n",
      "Episode finished after 500 timesteps\n",
      "Episode finished after 500 timesteps\n",
      "Episode finished after 500 timesteps\n",
      "Episode finished after 500 timesteps\n",
      "Episode finished after 500 timesteps\n",
      "Episode finished after 500 timesteps\n",
      "Episode finished after 500 timesteps\n",
      "Episode finished after 500 timesteps\n",
      "Episode finished after 197 timesteps\n"
     ]
    }
   ],
   "source": [
    "# Instances\n",
    "env = gym.make('CartPole-v1')\n",
    "actor = Actor()\n",
    "optimizer = Optimizer(actor.parameters(), lr=1e-3)\n",
    "\n",
    "# settings\n",
    "epi = 10000\n",
    "time = 500\n",
    "store_episode = -torch.ones(epi)\n",
    "\n",
    "# Roll-out\n",
    "for i_episode in range(epi):\n",
    "    \n",
    "    store_log_prob = torch.zeros(time)\n",
    "    observation = env.reset()[0]\n",
    "    \n",
    "    for t in range(time):\n",
    "        \n",
    "        # action by actor\n",
    "        observation = torch.from_numpy(observation)\n",
    "        prob = actor.forward(observation)\n",
    "        action = prob.multinomial(num_samples=1).item()\n",
    "        prob_select = prob[action]\n",
    "        store_log_prob[t] = prob_select.log()\n",
    "        \n",
    "        # next state\n",
    "        observation, reward, done, _, _ = env.step(action)\n",
    "        \n",
    "        if done:\n",
    "            break\n",
    "\n",
    "    if i_episode %200 ==0:\n",
    "        print((\"Episode finished after {} timesteps\".format(t+1)))\n",
    "    \n",
    "    store_episode[i_episode] = t+1\n",
    "\n",
    "    # training\n",
    "    Gt = torch.tensor([ (1-0.99**(t-i))/(1-0.99) for i in range(t)])\n",
    "    base = Gt.mean().item()\n",
    "    log_prob = store_log_prob[0:t]\n",
    "    \n",
    "    loss = -((Gt-base)*log_prob).sum()\n",
    "    \n",
    "    optimizer.zero_grad()\n",
    "    loss.backward()\n",
    "    optimizer.step()\n",
    "    \n",
    "env.close()\n",
    "\n",
    "del actor, optimizer"
   ]
  },
  {
   "cell_type": "code",
   "execution_count": 6,
   "id": "35175556-ae11-493a-95dc-861d4fffd9ad",
   "metadata": {},
   "outputs": [
    {
     "data": {
      "text/plain": [
       "[<matplotlib.lines.Line2D at 0x29c900b3d30>]"
      ]
     },
     "execution_count": 6,
     "metadata": {},
     "output_type": "execute_result"
    },
    {
     "data": {
      "image/png": "[encoded data removed]",
      "text/plain": [
       "<Figure size 640x480 with 1 Axes>"
      ]
     },
     "metadata": {},
     "output_type": "display_data"
    }
   ],
   "source": [
    "import matplotlib.pyplot as plt\n",
    "\n",
    "x = np.arange(0,i_episode)\n",
    "y = store_episode[0:i_episode].numpy()\n",
    "\n",
    "fig, ax = plt.subplots()\n",
    "ax.plot(x,y)"
   ]
  },
  {
   "cell_type": "code",
   "execution_count": null,
   "id": "f2ccde60-e188-4356-9743-6219f3512c4b",
   "metadata": {},
   "outputs": [],
   "source": []
  },
  {
   "cell_type": "code",
   "execution_count": 7,
   "id": "574dbb6a-0af6-4d39-9cc2-5ed84007160d",
   "metadata": {},
   "outputs": [],
   "source": [
    "torch.save(store_episode[0:i_episode], \"REINFORCE_baseline_result\")"
   ]
  },
  {
   "cell_type": "code",
   "execution_count": null,
   "id": "760ecb92-bbaf-410a-9ccb-7b75771ac281",
   "metadata": {},
   "outputs": [],
   "source": []
  },
  {
   "cell_type": "code",
   "execution_count": null,
   "id": "e535184c-79c1-460a-aef9-5ba1bc596a13",
   "metadata": {},
   "outputs": [],
   "source": []
  },
  {
   "cell_type": "code",
   "execution_count": null,
   "id": "718bcae4-fc54-4b39-9445-05ea132606da",
   "metadata": {},
   "outputs": [],
   "source": []
  },
  {
   "cell_type": "code",
   "execution_count": null,
   "id": "a12924f7-9b65-4b95-b1d6-746a99d3f75e",
   "metadata": {},
   "outputs": [],
   "source": []
  },
  {
   "cell_type": "code",
   "execution_count": null,
   "id": "061090dc-bead-4e4f-a9e3-dad9753204fb",
   "metadata": {},
   "outputs": [],
   "source": []
  },
  {
   "cell_type": "code",
   "execution_count": null,
   "id": "e3abcb15-3af4-4884-a98d-bb6a6b59156f",
   "metadata": {},
   "outputs": [],
   "source": []
  },
  {
   "cell_type": "code",
   "execution_count": null,
   "id": "4a8fa645-02ab-4f17-b86a-fc6b18ea640d",
   "metadata": {},
   "outputs": [],
   "source": []
  },
  {
   "cell_type": "code",
   "execution_count": null,
   "id": "46272de0-50c8-4673-8c2e-695bda42ea22",
   "metadata": {},
   "outputs": [],
   "source": []
  }
 ],
 "metadata": {
  "kernelspec": {
   "display_name": "Python 3 (ipykernel)",
   "language": "python",
   "name": "python3"
  },
  "language_info": {
   "codemirror_mode": {
    "name": "ipython",
    "version": 3
   },
   "file_extension": ".py",
   "mimetype": "text/x-python",
   "name": "python",
   "nbconvert_exporter": "python",
   "pygments_lexer": "ipython3",
   "version": "3.9.0"
  }
 },
 "nbformat": 4,
 "nbformat_minor": 5
}
